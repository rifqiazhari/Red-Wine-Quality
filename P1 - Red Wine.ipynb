{
 "cells": [
  {
   "cell_type": "markdown",
   "id": "9af9d46b",
   "metadata": {},
   "source": [
    "## Table of Contents\n",
    "\n",
    "- [1. Introduction and Data Preprocessing](#1)\n",
    "    - [1.1 Problem Statement](#1.1)\n",
    "    - [1.2 Packages](#1.2)\n",
    "    - [1.3 Read or Import](#1.3)\n",
    "    - [1.4 Data Summary](#1.4)\n",
    "    - [1.5 Data Preparation](#1.5)\n",
    "- [2. Exploratory Data Analysis](#2)\n",
    "    - [2.1 Target Variable](#2.1)\n",
    "    - [2.2 Features Correlation with Target](#2.2)\n",
    "    - [2.3 Feature Variable](#2.3)\n",
    "        - [2.3.1 Alcohol](#2.3.1)\n",
    "        - [2.3.2 Volatile Acidity](#2.3.2)\n",
    "        - [2.3.3 Residual Sugar](#2.3.3)\n",
    "    - [2.4 Multicollinearity](#2.4)\n",
    "- [3. Feature Engineering](#3)\n",
    "    - [3.1 Missing Values](#3.1)\n",
    "- [4. Model](#4)\n",
    "    - [4.1 Logistic Regression](#4.1)\n",
    "    - [4.2 Random Forest](#4.2)\n",
    "- [5. Conclusion](#5)"
   ]
  },
  {
   "cell_type": "markdown",
   "id": "03a03440",
   "metadata": {},
   "source": [
    "<a name='1'></a>\n",
    "# 1. Introduction and Data Preprocessing"
   ]
  },
  {
   "cell_type": "markdown",
   "id": "32d4021c",
   "metadata": {},
   "source": [
    "<a name='1.1'></a>\n",
    "## 1.1 Problem Statement\n",
    "\n",
    "There are two common types of wine, white wine and red wine. In this case we got the red wine data from Kaggle. We want to predict the red wine quality based on many variables."
   ]
  },
  {
   "cell_type": "markdown",
   "id": "b48c7bc1",
   "metadata": {},
   "source": [
    "<a name='1.2'></a>\n",
    "## 1.2 Packages"
   ]
  },
  {
   "cell_type": "code",
   "execution_count": 21,
   "id": "0fded0d9",
   "metadata": {},
   "outputs": [],
   "source": [
    "import pandas as pd\n",
    "from sklearn.model_selection import train_test_split\n",
    "import matplotlib.pyplot as plt\n",
    "import seaborn as sns"
   ]
  },
  {
   "cell_type": "markdown",
   "id": "fd44742d",
   "metadata": {},
   "source": [
    "<a name='1.3'></a>\n",
    "## 1.3 Read or Import"
   ]
  },
  {
   "cell_type": "code",
   "execution_count": 28,
   "id": "f4628c2c",
   "metadata": {},
   "outputs": [],
   "source": [
    "df = pd.read_csv(\"winequality-red.csv\")"
   ]
  },
  {
   "cell_type": "markdown",
   "id": "3684e300",
   "metadata": {},
   "source": [
    "<a name='1.4'></a>\n",
    "## 1.4 Data Summary"
   ]
  },
  {
   "cell_type": "markdown",
   "id": "c5b8237c",
   "metadata": {},
   "source": [
    "Now we want to count the variables\n",
    "\n",
    "There are 12 variables in total, 11 features or independent variables and 1 target or dependent variable"
   ]
  },
  {
   "cell_type": "code",
   "execution_count": 29,
   "id": "c9e971f8",
   "metadata": {},
   "outputs": [
    {
     "name": "stdout",
     "output_type": "stream",
     "text": [
      "<class 'pandas.core.frame.DataFrame'>\n",
      "RangeIndex: 1599 entries, 0 to 1598\n",
      "Data columns (total 12 columns):\n",
      " #   Column                Non-Null Count  Dtype  \n",
      "---  ------                --------------  -----  \n",
      " 0   fixed acidity         1599 non-null   float64\n",
      " 1   volatile acidity      1599 non-null   float64\n",
      " 2   citric acid           1599 non-null   float64\n",
      " 3   residual sugar        1599 non-null   float64\n",
      " 4   chlorides             1599 non-null   float64\n",
      " 5   free sulfur dioxide   1599 non-null   float64\n",
      " 6   total sulfur dioxide  1599 non-null   float64\n",
      " 7   density               1599 non-null   float64\n",
      " 8   pH                    1599 non-null   float64\n",
      " 9   sulphates             1599 non-null   float64\n",
      " 10  alcohol               1599 non-null   float64\n",
      " 11  quality               1599 non-null   int64  \n",
      "dtypes: float64(11), int64(1)\n",
      "memory usage: 150.0 KB\n"
     ]
    }
   ],
   "source": [
    "df.info()"
   ]
  },
  {
   "cell_type": "markdown",
   "id": "9c03c2a0",
   "metadata": {},
   "source": [
    "All of the variables are numerical\n",
    "\n",
    "All features are numerical and float. After further analysis we could conclude that all the features are continuous variables. So we want to predict categorical (ordinal) variable with 11 continuous variables"
   ]
  },
  {
   "cell_type": "code",
   "execution_count": 30,
   "id": "0241f52d",
   "metadata": {},
   "outputs": [
    {
     "name": "stdout",
     "output_type": "stream",
     "text": [
      "There are 12 numerical features:\n",
      " ['fixed acidity', 'volatile acidity', 'citric acid', 'residual sugar', 'chlorides', 'free sulfur dioxide', 'total sulfur dioxide', 'density', 'pH', 'sulphates', 'alcohol', 'quality']\n"
     ]
    }
   ],
   "source": [
    "numCols = list(df.select_dtypes(exclude='object').columns)\n",
    "print(f\"There are {len(numCols)} numerical features:\\n\", numCols)"
   ]
  },
  {
   "cell_type": "code",
   "execution_count": 31,
   "id": "7f84ce9c",
   "metadata": {},
   "outputs": [
    {
     "name": "stdout",
     "output_type": "stream",
     "text": [
      "There are 0 categorical features:\n",
      " []\n"
     ]
    }
   ],
   "source": [
    "catCols = list(df.select_dtypes(include='object').columns)\n",
    "print(f\"There are {len(catCols)} categorical features:\\n\", catCols)"
   ]
  },
  {
   "cell_type": "markdown",
   "id": "bca2b50a",
   "metadata": {},
   "source": [
    "<a name='1.5'></a>\n",
    "## 1.5 Data Preparation"
   ]
  },
  {
   "cell_type": "markdown",
   "id": "f8ffa277",
   "metadata": {},
   "source": [
    "There are two methods that we could use to seperate and split the data. To make the code easier, I want to split the data first become the training and testing data and then split each data into features and target data later."
   ]
  },
  {
   "cell_type": "code",
   "execution_count": 32,
   "id": "30094a6e",
   "metadata": {},
   "outputs": [],
   "source": [
    "# Seperate first then split (A)\n",
    "# Seperate features and target variable\n",
    "X = df.drop(['quality'], axis=1)\n",
    "y = df.quality\n",
    "\n",
    "#Split the train and test data\n",
    "X_train, X_test, y_train, y_test = train_test_split(X,y , \n",
    "                                   random_state=None,  \n",
    "                                   test_size=0.20,  \n",
    "                                   shuffle=True)"
   ]
  },
  {
   "cell_type": "code",
   "execution_count": 33,
   "id": "31ffd13b",
   "metadata": {},
   "outputs": [],
   "source": [
    "# Split first then separate (B)\n",
    "# Split the train and test data\n",
    "dftrain, dftest = train_test_split(df, \n",
    "                                   random_state=None,  \n",
    "                                   test_size=0.20,  \n",
    "                                   shuffle=True)\n",
    "\n",
    "# Seperate features and target variable\n",
    "X_train = dftrain.drop(['quality'], axis=1)\n",
    "y_train = dftrain.quality\n",
    "X_test = dftest.drop(['quality'], axis=1)\n",
    "y_test = dftest.quality"
   ]
  },
  {
   "cell_type": "code",
   "execution_count": 34,
   "id": "ef941c2d",
   "metadata": {},
   "outputs": [
    {
     "name": "stdout",
     "output_type": "stream",
     "text": [
      "X_train: (1279, 11) (80.0%)\n",
      "y_train: (1279,) (80.0%)\n",
      "X_test: (320, 11) (20.0%)\n",
      "y_test: (320,) (20.0%)\n",
      "\n",
      "\n",
      "X_train: \n",
      "      fixed acidity  volatile acidity  citric acid  residual sugar  chlorides  \\\n",
      "1157            5.1              0.51         0.18            2.10      0.042   \n",
      "3              11.2              0.28         0.56            1.90      0.075   \n",
      "682             8.5              0.46         0.31            2.25      0.078   \n",
      "\n",
      "      free sulfur dioxide  total sulfur dioxide  density    pH  sulphates  \\\n",
      "1157                 16.0                 101.0   0.9924  3.46       0.87   \n",
      "3                    17.0                  60.0   0.9980  3.16       0.58   \n",
      "682                  32.0                  58.0   0.9980  3.33       0.54   \n",
      "\n",
      "      alcohol  \n",
      "1157     12.9  \n",
      "3         9.8  \n",
      "682       9.8  \n",
      "\n",
      "y_train: \n",
      "1157    7\n",
      "3       6\n",
      "682     5\n",
      "Name: quality, dtype: int64\n"
     ]
    }
   ],
   "source": [
    "#80/20 split\n",
    "print(f'X_train: {X_train.shape} ({round(len(X_train)/len(df), 1) * 100}%)')\n",
    "print(f'y_train: {y_train.shape} ({round(len(y_train)/len(df), 1) * 100}%)')\n",
    "print(f'X_test: {X_test.shape} ({round(len(X_test)/len(df), 1) * 100}%)')\n",
    "print(f'y_test: {y_test.shape} ({round(len(y_test)/len(df), 1) * 100}%)')\n",
    "\n",
    "#Data preview\n",
    "print('')\n",
    "print('')\n",
    "print('X_train: ')\n",
    "print(X_train.head(3))\n",
    "print('')\n",
    "print('y_train: ')\n",
    "print(y_train.head(3))"
   ]
  },
  {
   "cell_type": "markdown",
   "id": "c4b078e2",
   "metadata": {},
   "source": [
    "<a name='2'></a>\n",
    "# 2. Exploratory Data Analysis"
   ]
  },
  {
   "cell_type": "markdown",
   "id": "11271a11",
   "metadata": {},
   "source": [
    "<a name='2.1'></a>\n",
    "## 2.1 Target Variable"
   ]
  },
  {
   "cell_type": "code",
   "execution_count": 35,
   "id": "dc288920",
   "metadata": {},
   "outputs": [
    {
     "data": {
      "text/plain": [
       "<Figure size 576x432 with 0 Axes>"
      ]
     },
     "metadata": {},
     "output_type": "display_data"
    },
    {
     "data": {
      "image/png": "[encoded data removed]",
      "text/plain": [
       "<Figure size 360x360 with 1 Axes>"
      ]
     },
     "metadata": {
      "needs_background": "light"
     },
     "output_type": "display_data"
    }
   ],
   "source": [
    "plt.figure(figsize=(8,6))\n",
    "sns.displot(y)\n",
    "title = plt.title(\"Red Wine Quality\")\n",
    "\n",
    "#As we can see the distribution gathered in the middle\n",
    "#5 Quality value shows as the most quality value in red wine distribution followed by 6"
   ]
  },
  {
   "cell_type": "markdown",
   "id": "4e7a99a5",
   "metadata": {},
   "source": [
    "## 2.2 Features Correlation with Target"
   ]
  },
  {
   "cell_type": "code",
   "execution_count": 36,
   "id": "bc727c02",
   "metadata": {},
   "outputs": [
    {
     "data": {
      "text/plain": [
       "quality                 1.000000\n",
       "alcohol                 0.470156\n",
       "sulphates               0.259675\n",
       "citric acid             0.222449\n",
       "fixed acidity           0.133835\n",
       "residual sugar         -0.006530\n",
       "pH                     -0.058186\n",
       "free sulfur dioxide    -0.066289\n",
       "chlorides              -0.133082\n",
       "density                -0.175396\n",
       "total sulfur dioxide   -0.183490\n",
       "volatile acidity       -0.400282\n",
       "Name: quality, dtype: float64"
      ]
     },
     "execution_count": 36,
     "metadata": {},
     "output_type": "execute_result"
    }
   ],
   "source": [
    "# Top 10 highest pearson correlation\n",
    "corr_mat = dftrain.corr().quality.sort_values(ascending=False)\n",
    "corr_mat.head(12)"
   ]
  },
  {
   "cell_type": "code",
   "execution_count": 37,
   "id": "df37ae84",
   "metadata": {},
   "outputs": [],
   "source": [
    "# Seems like the alcohol has the highest positive correlation with quality, the higher the alcohol the higher the quality\n",
    "# On the other hand the volatile acidity has highest negative correlation with quality, the higher the volatile acidity the lower the quality\n",
    "# Lets look deeper into these variables"
   ]
  },
  {
   "cell_type": "markdown",
   "id": "a3940332",
   "metadata": {},
   "source": [
    "<a name='2.3'></a>\n",
    "## 2.3 Feature Variables"
   ]
  },
  {
   "cell_type": "markdown",
   "id": "038618da",
   "metadata": {},
   "source": [
    "Here is a deeper analysis with the highest, lowest, and closest to zero variables"
   ]
  },
  {
   "cell_type": "markdown",
   "id": "d1887dca",
   "metadata": {},
   "source": [
    "<a name='2.3.1'></a>\n",
    "### 2.3.1 Alcohol"
   ]
  },
  {
   "cell_type": "code",
   "execution_count": 38,
   "id": "86333786",
   "metadata": {},
   "outputs": [
    {
     "data": {
      "image/png": "[encoded data removed]",
      "text/plain": [
       "<Figure size 576x432 with 1 Axes>"
      ]
     },
     "metadata": {
      "needs_background": "light"
     },
     "output_type": "display_data"
    }
   ],
   "source": [
    "plt.figure(figsize=(8, 6))\n",
    "sns.boxplot(x='alcohol', y='quality', data=dftrain, orient='h', order=[8,7,6,5,4,3], palette='GnBu')\n",
    "title = plt.title('Quality by Alcohol')\n",
    "\n",
    "# It seems like the "
   ]
  },
  {
   "cell_type": "markdown",
   "id": "2d3b891a",
   "metadata": {},
   "source": [
    "<a name='2.3.2'></a>\n",
    "### 2.3.2 Volatile Acidity"
   ]
  },
  {
   "cell_type": "code",
   "execution_count": 39,
   "id": "55a9e670",
   "metadata": {},
   "outputs": [
    {
     "data": {
      "image/png": "[encoded data removed]",
      "text/plain": [
       "<Figure size 576x432 with 1 Axes>"
      ]
     },
     "metadata": {
      "needs_background": "light"
     },
     "output_type": "display_data"
    }
   ],
   "source": [
    "plt.figure(figsize=(8, 6))\n",
    "sns.boxplot(x='volatile acidity', y='quality', data=dftrain, orient='h', order=[8,7,6,5,4,3], palette='GnBu')\n",
    "title = plt.title('Quality by Volatile Acidity')\n",
    "# As we can see"
   ]
  },
  {
   "cell_type": "markdown",
   "id": "7c1e53ae",
   "metadata": {},
   "source": [
    "<a name='2.3.3'></a>\n",
    "### 2.3.3 Residual Sugar"
   ]
  },
  {
   "cell_type": "code",
   "execution_count": 40,
   "id": "b435df2a",
   "metadata": {},
   "outputs": [
    {
     "data": {
      "image/png": "[encoded data removed]",
      "text/plain": [
       "<Figure size 576x432 with 1 Axes>"
      ]
     },
     "metadata": {
      "needs_background": "light"
     },
     "output_type": "display_data"
    }
   ],
   "source": [
    "plt.figure(figsize=(8, 6))\n",
    "sns.boxplot(x='residual sugar', y='quality', data=dftrain, orient='h', order=[8,7,6,5,4,3], palette='GnBu')\n",
    "title = plt.title('Quality by Residual Sugar')\n",
    "# The data is hard to see because the outliers, now lets try to hide the outliers"
   ]
  },
  {
   "cell_type": "code",
   "execution_count": 41,
   "id": "0b23b896",
   "metadata": {},
   "outputs": [
    {
     "data": {
      "image/png": "[encoded data removed]",
      "text/plain": [
       "<Figure size 576x432 with 1 Axes>"
      ]
     },
     "metadata": {
      "needs_background": "light"
     },
     "output_type": "display_data"
    }
   ],
   "source": [
    "plt.figure(figsize=(8, 6))\n",
    "sns.boxplot(x='residual sugar', y='quality', data=dftrain, orient='h', order=[8,7,6,5,4,3], showfliers = False, palette='GnBu')\n",
    "title = plt.title('Quality by Residual Sugar')\n",
    "# As we can see"
   ]
  },
  {
   "cell_type": "markdown",
   "id": "ad163091",
   "metadata": {},
   "source": [
    "<a name='2.4'></a>\n",
    "## 2.4 Multicollinearity"
   ]
  },
  {
   "cell_type": "code",
   "execution_count": 42,
   "id": "a02c9373",
   "metadata": {},
   "outputs": [
    {
     "data": {
      "image/png": "[encoded data removed]",
      "text/plain": [
       "<Figure size 1080x720 with 2 Axes>"
      ]
     },
     "metadata": {
      "needs_background": "light"
     },
     "output_type": "display_data"
    }
   ],
   "source": [
    "# Create correlation matrix from train data excluding `SalePrice`\n",
    "corr_mat = dftrain.iloc[:, :-1].corr()\n",
    "\n",
    "# Select correlations greater than 0.5\n",
    "high_corr_mat = corr_mat[abs(corr_mat) >= 0.5]\n",
    "\n",
    "# Plot correlation heatmap\n",
    "plt.figure(figsize=(15, 10))\n",
    "sns.heatmap(high_corr_mat,\n",
    "            annot=True,\n",
    "            fmt='.1f',\n",
    "            cmap='GnBu',\n",
    "            vmin=0.5,\n",
    "            vmax=1)\n",
    "title = plt.title('Correlation Heatmap')"
   ]
  },
  {
   "cell_type": "markdown",
   "id": "7f34966a",
   "metadata": {},
   "source": [
    "<a name='3'></a>\n",
    "# 3. Feature Engineering"
   ]
  },
  {
   "cell_type": "markdown",
   "id": "675bd0cb",
   "metadata": {},
   "source": [
    "<a name='3.1'></a>\n",
    "## 3.1 Missing Values"
   ]
  },
  {
   "cell_type": "code",
   "execution_count": 43,
   "id": "7f467351",
   "metadata": {},
   "outputs": [
    {
     "name": "stdout",
     "output_type": "stream",
     "text": [
      "There are 0 features having missing data.\n",
      "\n",
      "Top 10 missing value features:\n"
     ]
    },
    {
     "data": {
      "text/html": [
       "<div>\n",
       "<style scoped>\n",
       "    .dataframe tbody tr th:only-of-type {\n",
       "        vertical-align: middle;\n",
       "    }\n",
       "\n",
       "    .dataframe tbody tr th {\n",
       "        vertical-align: top;\n",
       "    }\n",
       "\n",
       "    .dataframe thead th {\n",
       "        text-align: right;\n",
       "    }\n",
       "</style>\n",
       "<table border=\"1\" class=\"dataframe\">\n",
       "  <thead>\n",
       "    <tr style=\"text-align: right;\">\n",
       "      <th></th>\n",
       "      <th>Count</th>\n",
       "      <th>Percent</th>\n",
       "    </tr>\n",
       "  </thead>\n",
       "  <tbody>\n",
       "  </tbody>\n",
       "</table>\n",
       "</div>"
      ],
      "text/plain": [
       "Empty DataFrame\n",
       "Columns: [Count, Percent]\n",
       "Index: []"
      ]
     },
     "execution_count": 43,
     "metadata": {},
     "output_type": "execute_result"
    }
   ],
   "source": [
    "missing_data_train_count = X_train.isnull().sum()\n",
    "missing_data_train_percent = X_train.isnull().sum() / len(X) * 100\n",
    "\n",
    "missing_data_train = pd.DataFrame({\n",
    "    'Count': missing_data_train_count,\n",
    "    'Percent': missing_data_train_percent\n",
    "})\n",
    "missing_data_train = missing_data_train[missing_data_train.Count > 0]\n",
    "missing_data_train.sort_values(by='Count', ascending=False, inplace=True)\n",
    "\n",
    "print(f\"There are {missing_data_train.shape[0]} features having missing data.\\n\")\n",
    "print(\"Top 10 missing value features:\")\n",
    "missing_data_train.head(15)"
   ]
  },
  {
   "cell_type": "code",
   "execution_count": 44,
   "id": "ce2da824",
   "metadata": {},
   "outputs": [
    {
     "name": "stdout",
     "output_type": "stream",
     "text": [
      "There are 0 features having missing data.\n",
      "\n",
      "Top 10 missing value features:\n"
     ]
    },
    {
     "data": {
      "text/html": [
       "<div>\n",
       "<style scoped>\n",
       "    .dataframe tbody tr th:only-of-type {\n",
       "        vertical-align: middle;\n",
       "    }\n",
       "\n",
       "    .dataframe tbody tr th {\n",
       "        vertical-align: top;\n",
       "    }\n",
       "\n",
       "    .dataframe thead th {\n",
       "        text-align: right;\n",
       "    }\n",
       "</style>\n",
       "<table border=\"1\" class=\"dataframe\">\n",
       "  <thead>\n",
       "    <tr style=\"text-align: right;\">\n",
       "      <th></th>\n",
       "      <th>Count</th>\n",
       "      <th>Percent</th>\n",
       "    </tr>\n",
       "  </thead>\n",
       "  <tbody>\n",
       "  </tbody>\n",
       "</table>\n",
       "</div>"
      ],
      "text/plain": [
       "Empty DataFrame\n",
       "Columns: [Count, Percent]\n",
       "Index: []"
      ]
     },
     "execution_count": 44,
     "metadata": {},
     "output_type": "execute_result"
    }
   ],
   "source": [
    "missing_data_test_count = X_test.isnull().sum()\n",
    "missing_data_test_percent = X_test.isnull().sum() / len(X) * 100\n",
    "\n",
    "missing_data_test = pd.DataFrame({\n",
    "    'Count': missing_data_test_count,\n",
    "    'Percent': missing_data_test_percent\n",
    "})\n",
    "missing_data_test = missing_data_test[missing_data_test.Count > 0]\n",
    "missing_data_test.sort_values(by='Count', ascending=False, inplace=True)\n",
    "\n",
    "print(f\"There are {missing_data_test.shape[0]} features having missing data.\\n\")\n",
    "print(\"Top 10 missing value features:\")\n",
    "missing_data_test.head(10)"
   ]
  },
  {
   "cell_type": "code",
   "execution_count": 45,
   "id": "b9b8172a",
   "metadata": {},
   "outputs": [],
   "source": [
    "# Dealing with outliers, missing value\n",
    "# feature engineering"
   ]
  },
  {
   "cell_type": "markdown",
   "id": "f67f316c",
   "metadata": {},
   "source": [
    "<a name='4'></a>\n",
    "# 4. Model"
   ]
  },
  {
   "cell_type": "code",
   "execution_count": 46,
   "id": "c9f35770",
   "metadata": {},
   "outputs": [
    {
     "ename": "NameError",
     "evalue": "name 'Comment' is not defined",
     "output_type": "error",
     "traceback": [
      "\u001b[1;31m---------------------------------------------------------------------------\u001b[0m",
      "\u001b[1;31mNameError\u001b[0m                                 Traceback (most recent call last)",
      "Input \u001b[1;32mIn [46]\u001b[0m, in \u001b[0;36m<cell line: 1>\u001b[1;34m()\u001b[0m\n\u001b[1;32m----> 1\u001b[0m \u001b[43mComment\u001b[49m\n",
      "\u001b[1;31mNameError\u001b[0m: name 'Comment' is not defined"
     ]
    }
   ],
   "source": [
    "Comment"
   ]
  },
  {
   "cell_type": "code",
   "execution_count": 47,
   "id": "0bd25daa",
   "metadata": {},
   "outputs": [
    {
     "data": {
      "text/plain": [
       "LinearRegression()"
      ]
     },
     "execution_count": 47,
     "metadata": {},
     "output_type": "execute_result"
    }
   ],
   "source": [
    "from sklearn import linear_model\n",
    "\n",
    "regr = linear_model.LinearRegression()\n",
    "regr.fit(X_train, y_train)"
   ]
  },
  {
   "cell_type": "code",
   "execution_count": 48,
   "id": "30009f99",
   "metadata": {},
   "outputs": [
    {
     "name": "stdout",
     "output_type": "stream",
     "text": [
      "[ 4.75332879e-02 -1.18462454e+00 -3.57954971e-01  1.97734765e-02\n",
      " -1.81454622e+00  1.79316288e-03 -2.69574426e-03 -2.63043597e+01\n",
      " -2.79835262e-01  9.76368580e-01  2.55231208e-01]\n"
     ]
    }
   ],
   "source": [
    "print(regr.coef_)"
   ]
  },
  {
   "cell_type": "code",
   "execution_count": 49,
   "id": "7da5fba6",
   "metadata": {},
   "outputs": [
    {
     "name": "stdout",
     "output_type": "stream",
     "text": [
      "30.01887737528403\n"
     ]
    }
   ],
   "source": [
    "print(regr.intercept_)"
   ]
  },
  {
   "cell_type": "code",
   "execution_count": 50,
   "id": "170fd3c6",
   "metadata": {},
   "outputs": [],
   "source": [
    "import pandas as pd\n",
    "\n",
    "coef_table = pd.DataFrame(list(X_train.columns)).copy()\n",
    "coef_table.insert(len(coef_table.columns),\"Coefs\",regr.coef_.transpose())"
   ]
  },
  {
   "cell_type": "code",
   "execution_count": 51,
   "id": "9dab93fe",
   "metadata": {},
   "outputs": [
    {
     "data": {
      "text/html": [
       "<div>\n",
       "<style scoped>\n",
       "    .dataframe tbody tr th:only-of-type {\n",
       "        vertical-align: middle;\n",
       "    }\n",
       "\n",
       "    .dataframe tbody tr th {\n",
       "        vertical-align: top;\n",
       "    }\n",
       "\n",
       "    .dataframe thead th {\n",
       "        text-align: right;\n",
       "    }\n",
       "</style>\n",
       "<table border=\"1\" class=\"dataframe\">\n",
       "  <thead>\n",
       "    <tr style=\"text-align: right;\">\n",
       "      <th></th>\n",
       "      <th>0</th>\n",
       "      <th>Coefs</th>\n",
       "    </tr>\n",
       "  </thead>\n",
       "  <tbody>\n",
       "    <tr>\n",
       "      <th>0</th>\n",
       "      <td>fixed acidity</td>\n",
       "      <td>0.047533</td>\n",
       "    </tr>\n",
       "    <tr>\n",
       "      <th>1</th>\n",
       "      <td>volatile acidity</td>\n",
       "      <td>-1.184625</td>\n",
       "    </tr>\n",
       "    <tr>\n",
       "      <th>2</th>\n",
       "      <td>citric acid</td>\n",
       "      <td>-0.357955</td>\n",
       "    </tr>\n",
       "    <tr>\n",
       "      <th>3</th>\n",
       "      <td>residual sugar</td>\n",
       "      <td>0.019773</td>\n",
       "    </tr>\n",
       "    <tr>\n",
       "      <th>4</th>\n",
       "      <td>chlorides</td>\n",
       "      <td>-1.814546</td>\n",
       "    </tr>\n",
       "    <tr>\n",
       "      <th>5</th>\n",
       "      <td>free sulfur dioxide</td>\n",
       "      <td>0.001793</td>\n",
       "    </tr>\n",
       "    <tr>\n",
       "      <th>6</th>\n",
       "      <td>total sulfur dioxide</td>\n",
       "      <td>-0.002696</td>\n",
       "    </tr>\n",
       "    <tr>\n",
       "      <th>7</th>\n",
       "      <td>density</td>\n",
       "      <td>-26.304360</td>\n",
       "    </tr>\n",
       "    <tr>\n",
       "      <th>8</th>\n",
       "      <td>pH</td>\n",
       "      <td>-0.279835</td>\n",
       "    </tr>\n",
       "    <tr>\n",
       "      <th>9</th>\n",
       "      <td>sulphates</td>\n",
       "      <td>0.976369</td>\n",
       "    </tr>\n",
       "    <tr>\n",
       "      <th>10</th>\n",
       "      <td>alcohol</td>\n",
       "      <td>0.255231</td>\n",
       "    </tr>\n",
       "  </tbody>\n",
       "</table>\n",
       "</div>"
      ],
      "text/plain": [
       "                       0      Coefs\n",
       "0          fixed acidity   0.047533\n",
       "1       volatile acidity  -1.184625\n",
       "2            citric acid  -0.357955\n",
       "3         residual sugar   0.019773\n",
       "4              chlorides  -1.814546\n",
       "5    free sulfur dioxide   0.001793\n",
       "6   total sulfur dioxide  -0.002696\n",
       "7                density -26.304360\n",
       "8                     pH  -0.279835\n",
       "9              sulphates   0.976369\n",
       "10               alcohol   0.255231"
      ]
     },
     "execution_count": 51,
     "metadata": {},
     "output_type": "execute_result"
    }
   ],
   "source": [
    "coef_table"
   ]
  },
  {
   "cell_type": "code",
   "execution_count": 52,
   "id": "1deb9c10",
   "metadata": {},
   "outputs": [],
   "source": [
    "# Possible algorithms that we could use to predict categorical (ordinal) variable with 11 continuous variables\n",
    "# 1. Multivariate Logistic Regression\n",
    "# 2. Random Forest"
   ]
  },
  {
   "cell_type": "markdown",
   "id": "8791a293",
   "metadata": {},
   "source": [
    "<a name='4.1'></a>\n",
    "## 4.1 Logistic Regression"
   ]
  },
  {
   "cell_type": "code",
   "execution_count": 53,
   "id": "cae28aa9",
   "metadata": {},
   "outputs": [
    {
     "name": "stdout",
     "output_type": "stream",
     "text": [
      "Accuracy Score: 0.596875\n",
      "Confusion Matrix [[  0   0   1   1   0   0]\n",
      " [  0   0   7   6   0   0]\n",
      " [  0   0 116  32   0   0]\n",
      " [  0   0  36  75   2   0]\n",
      " [  0   0   1  37   0   0]\n",
      " [  0   0   0   6   0   0]]\n"
     ]
    },
    {
     "name": "stderr",
     "output_type": "stream",
     "text": [
      "C:\\Users\\ASUS\\anaconda3\\lib\\site-packages\\sklearn\\linear_model\\_logistic.py:814: ConvergenceWarning: lbfgs failed to converge (status=1):\n",
      "STOP: TOTAL NO. of ITERATIONS REACHED LIMIT.\n",
      "\n",
      "Increase the number of iterations (max_iter) or scale the data as shown in:\n",
      "    https://scikit-learn.org/stable/modules/preprocessing.html\n",
      "Please also refer to the documentation for alternative solver options:\n",
      "    https://scikit-learn.org/stable/modules/linear_model.html#logistic-regression\n",
      "  n_iter_i = _check_optimize_result(\n"
     ]
    }
   ],
   "source": [
    "from sklearn.linear_model import LogisticRegression\n",
    "model = LogisticRegression()\n",
    "model.fit(X_train, y_train)\n",
    "Y_pred = model.predict(X_test)\n",
    "\n",
    "from sklearn.metrics import accuracy_score,confusion_matrix\n",
    "print(\"Accuracy Score:\",accuracy_score(y_test,Y_pred))\n",
    "print(\"Confusion Matrix\",confusion_matrix(y_test,Y_pred))"
   ]
  },
  {
   "cell_type": "markdown",
   "id": "772f4068",
   "metadata": {},
   "source": [
    "<a name='4.2'></a>\n",
    "## 4.2 Random Forest"
   ]
  },
  {
   "cell_type": "code",
   "execution_count": 56,
   "id": "312c08ae",
   "metadata": {},
   "outputs": [
    {
     "name": "stdout",
     "output_type": "stream",
     "text": [
      "Accuracy Score: 0.696875\n",
      "Confusion Matrix \n",
      " [[  0   0   1   1   0   0]\n",
      " [  0   0   7   6   0   0]\n",
      " [  0   0 116  32   0   0]\n",
      " [  0   0  36  75   2   0]\n",
      " [  0   0   1  37   0   0]\n",
      " [  0   0   0   6   0   0]]\n"
     ]
    }
   ],
   "source": [
    "from sklearn.ensemble import RandomForestClassifier\n",
    "model2 = RandomForestClassifier(random_state=1)\n",
    "model2.fit(X_train, y_train)\n",
    "y_pred2 = model2.predict(X_test)\n",
    "\n",
    "from sklearn.metrics import accuracy_score\n",
    "print(\"Accuracy Score:\",accuracy_score(y_test,y_pred2))\n",
    "print(\"Confusion Matrix \\n\",confusion_matrix(y_test,Y_pred))"
   ]
  },
  {
   "cell_type": "code",
   "execution_count": 209,
   "id": "cbb24482",
   "metadata": {},
   "outputs": [
    {
     "data": {
      "text/plain": [
       "543     0.99930\n",
       "69      0.99620\n",
       "381     1.00140\n",
       "203     0.99610\n",
       "199     0.99480\n",
       "909     0.99331\n",
       "357     0.99700\n",
       "327     0.99800\n",
       "523     0.99780\n",
       "307     0.99940\n",
       "219     0.99655\n",
       "785     0.99820\n",
       "718     0.99760\n",
       "1273    0.99494\n",
       "558     1.00020\n",
       "1498    0.99582\n",
       "715     0.99670\n",
       "1285    0.99734\n",
       "1030    0.99488\n",
       "1121    0.99352\n",
       "1276    0.99566\n",
       "640     0.99910\n",
       "1557    0.99627\n",
       "1519    0.99665\n",
       "808     0.99702\n",
       "614     0.99690\n",
       "650     0.99860\n",
       "671     0.99680\n",
       "494     0.99520\n",
       "194     0.99640\n",
       "Name: density, dtype: float64"
      ]
     },
     "execution_count": 209,
     "metadata": {},
     "output_type": "execute_result"
    }
   ],
   "source": [
    "dftrain['density'].tail(30)"
   ]
  },
  {
   "cell_type": "markdown",
   "id": "e6fe5132",
   "metadata": {},
   "source": [
    "<a name='5'></a>\n",
    "# 5. Conclusion"
   ]
  },
  {
   "cell_type": "markdown",
   "id": "d7385cb7",
   "metadata": {},
   "source": [
    "As we can see that random forest algorithm makes the best prediction with the accuracy of 0.70625. It means that the algorithm guessed the test data accuracy right 70.6 % of the time"
   ]
  }
 ],
 "metadata": {
  "kernelspec": {
   "display_name": "Python 3 (ipykernel)",
   "language": "python",
   "name": "python3"
  },
  "language_info": {
   "codemirror_mode": {
    "name": "ipython",
    "version": 3
   },
   "file_extension": ".py",
   "mimetype": "text/x-python",
   "name": "python",
   "nbconvert_exporter": "python",
   "pygments_lexer": "ipython3",
   "version": "3.9.12"
  }
 },
 "nbformat": 4,
 "nbformat_minor": 5
}
